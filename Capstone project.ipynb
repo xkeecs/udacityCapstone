{
 "cells": [
  {
   "cell_type": "markdown",
   "metadata": {
    "collapsed": true
   },
   "source": [
    "# Capstone project \n",
    "### Investment and trading project - Predicting stock prices and returns based on machine learning"
   ]
  },
  {
   "cell_type": "markdown",
   "metadata": {},
   "source": [
    "## 1. Data exploration: get data from quandle api. We primarily choose indices across the world. "
   ]
  },
  {
   "cell_type": "code",
   "execution_count": null,
   "metadata": {
    "collapsed": false
   },
   "outputs": [],
   "source": [
    "%matplotlib inline\n",
    "\n",
    "import sys\n",
    "import numpy as np\n",
    "import pandas as pd\n",
    "from sklearn import preprocessing\n",
    "import matplotlib.pyplot as plt\n",
    "\n",
    "local_python_path = '/Library/Python/2.7/site-packages'\n",
    "sys.path.append(local_python_path)"
   ]
  },
  {
   "cell_type": "code",
   "execution_count": null,
   "metadata": {
    "collapsed": false
   },
   "outputs": [],
   "source": [
    "def getStockPrice(symbol, start, end):\n",
    "    \"\"\"\n",
    "    Adjusted close price from quandle.\n",
    "    \"\"\"\n",
    "    import quandl\n",
    "    mydata = quandl.get(symbol, start_date=start, end_date=end)\n",
    "    return mydata[\"Adjusted Close\"]\n",
    "\n",
    "def getReturns(price):\n",
    "    \"\"\"\n",
    "    Get stock returns\n",
    "    \"\"\"\n",
    "    return price.pct_change()[1:]\n",
    "\n",
    "yahoo_close = getStockPrice(\"YAHOO/INDEX_GSPC\", \"2001-12-31\", \"2016-03-01\")\n",
    "\n",
    "yahoo_return = getReturns(yahoo_close)\n",
    "yahoo_return\n",
    "plt.figure(1)\n",
    "plt.plot(yahoo_close)\n",
    "\n",
    "plt.figure(2)\n",
    "plt.plot(yahoo_return)"
   ]
  },
  {
   "cell_type": "code",
   "execution_count": null,
   "metadata": {
    "collapsed": false
   },
   "outputs": [],
   "source": [
    "import statsmodels.graphics.tsaplots as tsplots\n",
    "tsplots.plot_acf(yahoo_return)\n",
    "tsplots.plot_pacf(yahoo_return)"
   ]
  },
  {
   "cell_type": "code",
   "execution_count": null,
   "metadata": {
    "collapsed": false
   },
   "outputs": [],
   "source": [
    "from pandas.tools.plotting import bootstrap_plot\n",
    "bootstrap_plot(yahoo_return, size = 50)\n",
    "plt.show()\n"
   ]
  },
  {
   "cell_type": "markdown",
   "metadata": {},
   "source": [
    "### 1. Use supervised learning algorithms to predict stock returns. Use lagged returns as features. "
   ]
  },
  {
   "cell_type": "code",
   "execution_count": null,
   "metadata": {
    "collapsed": true
   },
   "outputs": [],
   "source": [
    "features = yahoo_return\n",
    "    "
   ]
  },
  {
   "cell_type": "code",
   "execution_count": null,
   "metadata": {
    "collapsed": true
   },
   "outputs": [],
   "source": []
  },
  {
   "cell_type": "code",
   "execution_count": null,
   "metadata": {
    "collapsed": true
   },
   "outputs": [],
   "source": []
  },
  {
   "cell_type": "markdown",
   "metadata": {},
   "source": [
    "### 2. Use unsupervised learning algorithms to predict the sign of stock returns. Use lagged returns as features"
   ]
  },
  {
   "cell_type": "code",
   "execution_count": null,
   "metadata": {
    "collapsed": true
   },
   "outputs": [],
   "source": []
  }
 ],
 "metadata": {
  "anaconda-cloud": {},
  "celltoolbar": "Edit Metadata",
  "kernelspec": {
   "display_name": "Python [Root]",
   "language": "python",
   "name": "Python [Root]"
  },
  "language_info": {
   "codemirror_mode": {
    "name": "ipython",
    "version": 2
   },
   "file_extension": ".py",
   "mimetype": "text/x-python",
   "name": "python",
   "nbconvert_exporter": "python",
   "pygments_lexer": "ipython2",
   "version": "2.7.12"
  }
 },
 "nbformat": 4,
 "nbformat_minor": 0
}
