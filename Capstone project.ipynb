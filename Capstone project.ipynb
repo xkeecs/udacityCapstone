{
 "cells": [
  {
   "cell_type": "markdown",
   "metadata": {
    "collapsed": true
   },
   "source": [
    "# Capstone project \n",
    "### Investment and trading project - Predicting stock prices and returns based on machine learning"
   ]
  },
  {
   "cell_type": "markdown",
   "metadata": {},
   "source": [
    "## 1. Data exploration: get data from quandle api. We primarily choose indices across the world. "
   ]
  },
  {
   "cell_type": "code",
   "execution_count": 6,
   "metadata": {
    "collapsed": false
   },
   "outputs": [],
   "source": [
    "import sys\n",
    "local_python_path = '/Library/Python/2.7/site-packages'\n",
    "sys.path.append(local_python_path)"
   ]
  },
  {
   "cell_type": "code",
   "execution_count": 15,
   "metadata": {
    "collapsed": false
   },
   "outputs": [
    {
     "data": {
      "text/plain": [
       "Date\n",
       "2001-12-31    1148.079956\n",
       "2002-01-02    1154.670044\n",
       "2002-01-03    1165.270020\n",
       "2002-01-04    1172.510010\n",
       "2002-01-07    1164.890015\n",
       "2002-01-08    1160.709961\n",
       "2002-01-09    1155.140015\n",
       "2002-01-10    1156.550049\n",
       "2002-01-11    1145.599976\n",
       "2002-01-14    1138.410034\n",
       "2002-01-15    1146.189941\n",
       "2002-01-16    1127.569946\n",
       "2002-01-17    1138.880005\n",
       "2002-01-18    1127.579956\n",
       "2002-01-22    1119.310059\n",
       "2002-01-23    1128.180054\n",
       "2002-01-24    1132.150024\n",
       "2002-01-25    1133.280029\n",
       "2002-01-28    1133.060059\n",
       "2002-01-29    1100.640015\n",
       "2002-01-30    1113.569946\n",
       "2002-01-31    1130.199951\n",
       "2002-02-01    1122.199951\n",
       "2002-02-04    1094.439941\n",
       "2002-02-05    1090.020020\n",
       "2002-02-06    1083.510010\n",
       "2002-02-07    1080.170044\n",
       "2002-02-08    1096.219971\n",
       "2002-02-11    1111.939941\n",
       "2002-02-12    1107.500000\n",
       "                 ...     \n",
       "2016-01-19    1881.329956\n",
       "2016-01-20    1859.329956\n",
       "2016-01-21    1868.989990\n",
       "2016-01-22    1906.900024\n",
       "2016-01-25    1877.079956\n",
       "2016-01-26    1903.630005\n",
       "2016-01-27    1882.949951\n",
       "2016-01-28    1893.359985\n",
       "2016-01-29    1940.239990\n",
       "2016-02-01    1939.380005\n",
       "2016-02-02    1903.030029\n",
       "2016-02-03    1912.530029\n",
       "2016-02-04    1915.449951\n",
       "2016-02-05    1880.050049\n",
       "2016-02-08    1853.439941\n",
       "2016-02-09    1852.209961\n",
       "2016-02-10    1851.859985\n",
       "2016-02-11    1829.079956\n",
       "2016-02-12    1864.780029\n",
       "2016-02-16    1895.579956\n",
       "2016-02-17    1926.819946\n",
       "2016-02-18    1917.829956\n",
       "2016-02-19    1917.780029\n",
       "2016-02-22    1945.500000\n",
       "2016-02-23    1921.270020\n",
       "2016-02-24    1929.800049\n",
       "2016-02-25    1951.699951\n",
       "2016-02-26    1948.050049\n",
       "2016-02-29    1932.229980\n",
       "2016-03-01    1978.349976\n",
       "Name: Adjusted Close, dtype: float64"
      ]
     },
     "execution_count": 15,
     "metadata": {},
     "output_type": "execute_result"
    }
   ],
   "source": [
    "\n",
    "import quandl\n",
    "mydata = quandl.get(\"YAHOO/INDEX_GSPC\", start_date=\"2001-12-31\", end_date=\"2016-03-01\")\n",
    "mydata\n",
    "yahoo_close = mydata[\"Adjusted Close\"]\n",
    "yahoo_close"
   ]
  },
  {
   "cell_type": "markdown",
   "metadata": {},
   "source": [
    "### 1. Use supervised learning algorithms to predict stock prices. Use lagged prices as features. "
   ]
  },
  {
   "cell_type": "code",
   "execution_count": null,
   "metadata": {
    "collapsed": true
   },
   "outputs": [],
   "source": []
  },
  {
   "cell_type": "code",
   "execution_count": null,
   "metadata": {
    "collapsed": true
   },
   "outputs": [],
   "source": []
  }
 ],
 "metadata": {
  "anaconda-cloud": {},
  "celltoolbar": "Edit Metadata",
  "kernelspec": {
   "display_name": "Python [Root]",
   "language": "python",
   "name": "Python [Root]"
  },
  "language_info": {
   "codemirror_mode": {
    "name": "ipython",
    "version": 2
   },
   "file_extension": ".py",
   "mimetype": "text/x-python",
   "name": "python",
   "nbconvert_exporter": "python",
   "pygments_lexer": "ipython2",
   "version": "2.7.12"
  }
 },
 "nbformat": 4,
 "nbformat_minor": 0
}
